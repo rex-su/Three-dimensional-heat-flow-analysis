{
 "cells": [
  {
   "cell_type": "markdown",
   "id": "be54d5d2",
   "metadata": {},
   "source": [
    "### 模擬冷氣如果只有透過傳導會如何降溫"
   ]
  },
  {
   "cell_type": "markdown",
   "id": "141d23da",
   "metadata": {},
   "source": [
    "熱擴散方程式為:"
   ]
  },
  {
   "cell_type": "markdown",
   "id": "799d431c",
   "metadata": {},
   "source": [
    "$\\rho C\\frac{\\partial T}{\\partial t} - \\bigtriangledown \\cdot (\\kappa \\bigtriangledown T) = Q $"
   ]
  },
  {
   "cell_type": "markdown",
   "id": "02c0372e",
   "metadata": {},
   "source": [
    "Q 為熱源,\n",
    "$\\kappa$為熱傳導係數,\n",
    "$\\rho$為材料的密度,\n",
    "C為材料的比熱。"
   ]
  },
  {
   "cell_type": "markdown",
   "id": "f0aadd0a",
   "metadata": {},
   "source": [
    "若不考慮熱源 Q 則上述的熱擴散方程式三維形式可寫成:"
   ]
  },
  {
   "cell_type": "markdown",
   "id": "292dd63b",
   "metadata": {},
   "source": [
    "$\\left\\{\\begin{matrix}\n",
    "\\frac{\\partial T}{\\partial t} = \\alpha (\\frac{\\partial^2 T}{\\partial x^2} + \\frac{\\partial^2 T}{\\partial y^2} + \\frac{\\partial^2 T}{\\partial z^2}) \\\\\\ \n",
    "\\alpha  =  \\frac{\\kappa}{\\rho C} \n",
    "\\end{matrix}\\right. $"
   ]
  },
  {
   "cell_type": "markdown",
   "id": "1bf4d8fd",
   "metadata": {},
   "source": [
    "邊界條件以及環境溫度為30度，並將冷氣窗口設定在xz平面上，初始溫度為16度"
   ]
  },
  {
   "cell_type": "markdown",
   "id": "de70bef6",
   "metadata": {},
   "source": [
    "三維熱傳導方程式的差分方程式:"
   ]
  },
  {
   "cell_type": "markdown",
   "id": "ff0d5d5c",
   "metadata": {},
   "source": [
    "$\\frac{T(x,y,z,t+\\Delta t)-T(x,y,z,t)}{\\Delta t} = \\alpha[\\frac{T(x+\\Delta x,y,z,t)+T(x-\\Delta x,y,z,t)-2T(x,y,z,t)}{(\\Delta x)^2}+\\frac{T(x,y+\\Delta y,z,t)+T(x,y-\\Delta y,z,t)-2T(x,y,z,t)}{(\\Delta y)^2}+\\frac{T(x,y,z+\\Delta z,t)+T(x,y,z-\\Delta z,t)-2T(x,y,z,t)}{(\\Delta z)^2}]$"
   ]
  },
  {
   "cell_type": "markdown",
   "id": "4ed37c8e",
   "metadata": {},
   "source": [
    "取$\\Delta x$=$\\Delta y$=$\\Delta z$=$\\Delta$ ,三維熱傳導方程式的離散形式:"
   ]
  },
  {
   "cell_type": "markdown",
   "id": "8de4674f",
   "metadata": {},
   "source": [
    "$T(x,y,z,t+\\Delta t)=T(x,y,z,t)+$"
   ]
  },
  {
   "cell_type": "markdown",
   "id": "863ec365",
   "metadata": {},
   "source": [
    "$\\frac{\\Delta t \\cdot \\alpha}{\\Delta^2}[T(x+\\Delta x,y,z,t)+T(x-\\Delta x,y,z,t)+T(x,y+\\Delta y,z,t)+T(x,y-\\Delta y,z,t)+T(x,y,z+\\Delta z,t)+T(x,y,z-\\Delta z,t)-6T(x,y,z,t)]$"
   ]
  },
  {
   "cell_type": "markdown",
   "id": "d1050879",
   "metadata": {},
   "source": [
    "為了把T(x,y,z,t)項消除，設計$\\frac{\\Delta t \\cdot \\alpha}{\\Delta^2}$為$\\frac{1}{6}$"
   ]
  },
  {
   "cell_type": "markdown",
   "id": "152c3366",
   "metadata": {},
   "source": [
    "化簡為:$T(x,y,z,t+\\Delta t)=\\frac{1}{6}[T(x+\\Delta x,y,z,t)+T(x-\\Delta x,y,z,t)+T(x,y+\\Delta y,z,t)+T(x,y-\\Delta y,z,t)+T(x,y,z+\\Delta z,t)+T(x,y,z-\\Delta z,t)]$"
   ]
  },
  {
   "cell_type": "markdown",
   "id": "82f9aa07",
   "metadata": {},
   "source": [
    "此次模擬有三種情況:\n",
    "1.16度的冷氣與30度的環境\n",
    "2.10度的冷氣與30度的環境\n",
    "3.16度但2倍寬大小的冷氣與30度的環境\n",
    "\n",
    "在情況1模擬了10種時間步進求解的3d溫度分布圖，與冷氣所在中心點的xy平面溫度分布圖，並取座標(4, 6, 12)的溫度:28.39度與後續情況做比較。\n",
    "情況2將冷氣溫度降為10度，並直接產生xy平面溫度分布圖，座標(4, 6, 12)的溫度:27.70度\n",
    "情況3則是將冷氣變為2倍寬，並直接產生xy平面溫度分布圖，座標(4, 6, 12)的溫度:27.95度\n",
    "\n",
    "在只有傳導的情況下，可以分析得冷氣開低溫會比裝兩台還涼。\n",
    "\n",
    "最後附加一個整面都是冷氣的情況下的溫度分布圖，xy平面溫度分布圖會類似經典2維情況下，3個邊界條件相同，一面溫度不同的情況。"
   ]
  },
  {
   "cell_type": "code",
   "execution_count": null,
   "id": "3ea4df9e",
   "metadata": {},
   "outputs": [],
   "source": []
  }
 ],
 "metadata": {
  "kernelspec": {
   "display_name": "Python 3 (ipykernel)",
   "language": "python",
   "name": "python3"
  },
  "language_info": {
   "codemirror_mode": {
    "name": "ipython",
    "version": 3
   },
   "file_extension": ".py",
   "mimetype": "text/x-python",
   "name": "python",
   "nbconvert_exporter": "python",
   "pygments_lexer": "ipython3",
   "version": "3.11.4"
  }
 },
 "nbformat": 4,
 "nbformat_minor": 5
}
